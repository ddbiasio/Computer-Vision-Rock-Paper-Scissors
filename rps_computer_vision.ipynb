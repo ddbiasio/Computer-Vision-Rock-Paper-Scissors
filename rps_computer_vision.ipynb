{
 "cells": [
  {
   "cell_type": "code",
   "execution_count": 1,
   "metadata": {},
   "outputs": [],
   "source": [
    "\n",
    "import cv2\n",
    "from keras.models import load_model\n",
    "import numpy as np\n",
    "model = load_model('/home/siobhan/AiCoreProjects/RockPaperScissors/converted_keras/keras_model.h5')\n",
    "cap = cv2.VideoCapture(0)\n",
    "data = np.ndarray(shape=(1, 224, 224, 3), dtype=np.float32)\n",
    "\n",
    "while True: \n",
    "    ret, frame = cap.read()\n",
    "    resized_frame = cv2.resize(frame, (224, 224), interpolation = cv2.INTER_AREA)\n",
    "    image_np = np.array(resized_frame)\n",
    "    normalized_image = (image_np.astype(np.float32) / 127.0) - 1 # Normalize the image\n",
    "    data[0] = normalized_image\n",
    "    prediction = model.predict(data)\n",
    "    cv2.imshow('frame', frame)\n",
    "    # Press q to close the window\n",
    "    print(prediction)\n",
    "    if cv2.waitKey(1) & 0xFF == ord('q'):\n",
    "        break\n",
    "\n",
    "# After the loop release the cap object\n",
    "cap.release()\n",
    "# Destroy all the windows\n",
    "cv2.destroyAllWindows()\n"
   ]
  },
  {
   "cell_type": "code",
   "execution_count": 1,
   "metadata": {},
   "outputs": [],
   "source": [
    "import cv2\n",
    "from keras.models import load_model\n",
    "import numpy as np\n",
    "model = load_model('/home/siobhan/AiCoreProjects/RockPaperScissors/converted_keras/keras_model.h5')\n",
    "cap = cv2.VideoCapture(0)\n",
    "data = np.ndarray(shape=(1, 224, 224, 3), dtype=np.float32)\n",
    "\n",
    "while True: \n",
    "  ret, frame = cap.read()\n",
    "  resized_frame = cv2.resize(frame, (224, 224), interpolation = cv2.INTER_AREA)\n",
    "  image_np = np.array(resized_frame)\n",
    "  normalized_image = (image_np.astype(np.float32) / 127.0) - 1 # Normalize the image\n",
    "  data[0] = normalized_image\n",
    "  prediction = model.predict(data)\n",
    "  cv2.imshow('frame', frame)\n",
    "  # Press q to close the window\n",
    "  print(prediction)\n",
    "  if cv2.waitKey(1) & 0xFF == ord('q'):\n",
    "      break\n",
    "\n",
    "# After the loop release the cap object\n",
    "cap.release()\n",
    "# Destroy all the windows\n",
    "cv2.destroyAllWindows()"
   ]
  },
  {
   "cell_type": "code",
   "execution_count": 2,
   "metadata": {},
   "outputs": [],
   "source": [
    "def get_computer_choice(choice_list):\n",
    "    import random   \n",
    "    return random.choice(choice_list)\n",
    "\n"
   ]
  },
  {
   "cell_type": "code",
   "execution_count": 3,
   "metadata": {},
   "outputs": [],
   "source": [
    "def who_won(user_choice, computer_choice):\n",
    "    if user_choice == computer_choice:\n",
    "        return \"The result is a draw\"\n",
    "    elif user_choice == 'rock':\n",
    "        if computer_choice == 'scissors':\n",
    "            return \"Rock sharpens scissors: you win\"\n",
    "        elif computer_choice == 'paper':\n",
    "            return \"Paper wraps rock: computer wins\"\n",
    "        else:\n",
    "            return \"The computer's selection could not be processed\"\n",
    "    elif user_choice == 'scissors':\n",
    "        if computer_choice == 'paper':\n",
    "            return \"Scissors cut paper=: you win\"\n",
    "        elif computer_choice == 'rock':\n",
    "            return \"Rock sharpens scissors: computer wins\"\n",
    "        else:\n",
    "            return \"The computer's selection could not be processed\"\n",
    "    elif user_choice == 'paper':\n",
    "        if computer_choice == 'scissors':\n",
    "            return \"Scissors cut paper=: computer wins\"\n",
    "        elif computer_choice == 'rock':\n",
    "            return \"Rock sharpens scissors: you win\"\n",
    "        else:\n",
    "            return \"The computer's selection could not be processed\"\n",
    "    else:\n",
    "        return \"Your selection could not be processed\"\n",
    "  "
   ]
  },
  {
   "cell_type": "code",
   "execution_count": 4,
   "metadata": {},
   "outputs": [],
   "source": [
    "      \n",
    "def play_rps():\n",
    "    rps_list = ['rock', 'paper', 'scissors']\n",
    "    computer_choice = get_computer_choice(rps_list)\n",
    "    user_choice = get_user_choice()\n",
    "\n",
    "    print(\"You chose\", user_choice)\n",
    "    print(\"The computer chose\", computer_choice)\n",
    "    print(who_won(user_choice, computer_choice))\n",
    "\n"
   ]
  },
  {
   "cell_type": "code",
   "execution_count": 5,
   "metadata": {},
   "outputs": [],
   "source": [
    "play_rps()"
   ]
  }
 ],
 "metadata": {
  "interpreter": {
   "hash": "302a135847ca02bf12565582472dbecf5240f08a63dc35107c6024a6260b2622"
  },
  "kernelspec": {
   "display_name": "Python 3.9.7 ('tensorflow-env')",
   "language": "python",
   "name": "python3"
  },
  "language_info": {
   "codemirror_mode": {
    "name": "ipython",
    "version": 3
   },
   "file_extension": ".py",
   "mimetype": "text/x-python",
   "name": "python",
   "nbconvert_exporter": "python",
   "pygments_lexer": "ipython3",
   "version": "3.9.7"
  },
  "orig_nbformat": 4
 },
 "nbformat": 4,
 "nbformat_minor": 2
}
