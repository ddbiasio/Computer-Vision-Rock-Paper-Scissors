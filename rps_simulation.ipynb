{
 "cells": [
  {
   "cell_type": "code",
   "execution_count": 18,
   "metadata": {},
   "outputs": [],
   "source": [
    "def get_user_choice():\n",
    "    user_choice = input(\"Please enter rock (r), paper (p) or scissors (s)\")\n",
    "\n",
    "    if user_choice == \"r\":\n",
    "        return \"rock\"\n",
    "    elif user_choice == \"p\":\n",
    "        return \"paper\"\n",
    "    elif user_choice ==\"s\":\n",
    "        return \"scissors\"\n",
    "    else:\n",
    "        return \"invalid\"\n",
    "\n"
   ]
  },
  {
   "cell_type": "code",
   "execution_count": 19,
   "metadata": {},
   "outputs": [],
   "source": [
    "def get_computer_choice(choice_list):\n",
    "    import random   \n",
    "    return random.choice(choice_list)\n"
   ]
  },
  {
   "cell_type": "code",
   "execution_count": 20,
   "metadata": {},
   "outputs": [],
   "source": [
    "def who_won(user_choice, computer_choice):\n",
    "    if user_choice == computer_choice:\n",
    "        return \"The result is a draw\"\n",
    "    elif user_choice == 'rock':\n",
    "        if computer_choice == 'scissors':\n",
    "            return \"Rock sharpens scissors: you win\"\n",
    "        elif computer_choice == 'paper':\n",
    "            return \"Paper wraps rock: computer wins\"\n",
    "        else:\n",
    "            return \"The computer's selection could not be processed\"\n",
    "    elif user_choice == 'scissors':\n",
    "        if computer_choice == 'paper':\n",
    "            return \"Scissors cut paper=: you win\"\n",
    "        elif computer_choice == 'rock':\n",
    "            return \"Rock sharpens scissors: computer wins\"\n",
    "        else:\n",
    "            return \"The computer's selection could not be processed\"\n",
    "    elif user_choice == 'paper':\n",
    "        if computer_choice == 'scissors':\n",
    "            return \"Scissors cut paper=: computer wins\"\n",
    "        elif computer_choice == 'rock':\n",
    "            return \"Rock sharpens scissors: you win\"\n",
    "        else:\n",
    "            return \"The computer's selection could not be processed\"\n",
    "    else:\n",
    "        return \"Your selection could not be processed\""
   ]
  },
  {
   "cell_type": "code",
   "execution_count": 21,
   "metadata": {},
   "outputs": [],
   "source": [
    "def play_rps():\n",
    "    rps_list = ['rock', 'paper', 'scissors']\n",
    "    computer_choice = get_computer_choice(rps_list)\n",
    "    user_choice = get_user_choice()\n",
    "\n",
    "    print(\"You chose\", user_choice)\n",
    "    print(\"The computer chose\", computer_choice)\n",
    "    print(who_won(user_choice, computer_choice))\n"
   ]
  },
  {
   "cell_type": "code",
   "execution_count": 22,
   "metadata": {},
   "outputs": [
    {
     "name": "stdout",
     "output_type": "stream",
     "text": [
      "You chose rock\n",
      "The computer chose paper\n",
      "Paper wraps rock: computer wins\n"
     ]
    }
   ],
   "source": [
    "play_rps()"
   ]
  }
 ],
 "metadata": {
  "interpreter": {
   "hash": "302a135847ca02bf12565582472dbecf5240f08a63dc35107c6024a6260b2622"
  },
  "kernelspec": {
   "display_name": "Python 3.9.7 ('tensorflow-env')",
   "language": "python",
   "name": "python3"
  },
  "language_info": {
   "codemirror_mode": {
    "name": "ipython",
    "version": 3
   },
   "file_extension": ".py",
   "mimetype": "text/x-python",
   "name": "python",
   "nbconvert_exporter": "python",
   "pygments_lexer": "ipython3",
   "version": "3.9.7"
  },
  "orig_nbformat": 4
 },
 "nbformat": 4,
 "nbformat_minor": 2
}
